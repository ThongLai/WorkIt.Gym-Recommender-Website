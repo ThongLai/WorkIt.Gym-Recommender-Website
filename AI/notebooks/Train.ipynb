{
 "cells": [
  {
   "cell_type": "code",
   "execution_count": 1,
   "id": "b655044b-9fc2-4cc6-8e65-c07ece5ff35a",
   "metadata": {
    "scrolled": true
   },
   "outputs": [],
   "source": [
    "# UNCOMMENT THESE TO INSTALL THE REQUIRED LIBRARIES\n",
    "\n",
    "# %pip install pandas\n",
    "# %pip install tensorflow\n",
    "# %pip install scikit-learn\n",
    "# %pip install pymysql\n",
    "# %pip install sshtunnel"
   ]
  },
  {
   "cell_type": "code",
   "execution_count": 2,
   "id": "f26c2643-a751-43fb-b2ee-d712e9be4fc8",
   "metadata": {},
   "outputs": [
    {
     "name": "stdout",
     "output_type": "stream",
     "text": [
      "Numpy version: 1.26.4\n",
      "Pandas version: 2.2.2\n",
      "Tensorflow version: 2.16.1\n",
      "Sklearn version: 1.4.2\n",
      "Pymysql version: 1.4.6\n",
      "Sshtunnel version: 0.4.0\n"
     ]
    }
   ],
   "source": [
    "import numpy as np\n",
    "import pandas as pd\n",
    "import sklearn\n",
    "import tensorflow as tf\n",
    "import pymysql\n",
    "import sshtunnel\n",
    "\n",
    "from sklearn.model_selection import train_test_split\n",
    "from sklearn.preprocessing import LabelEncoder, StandardScaler\n",
    "\n",
    "print(\"Numpy version:\", np.__version__)\n",
    "print(\"Pandas version:\", pd.__version__)\n",
    "print(\"Tensorflow version:\", tf.__version__)\n",
    "print(\"Sklearn version:\", sklearn.__version__)\n",
    "print(\"Pymysql version:\", pymysql.__version__)\n",
    "print(\"Sshtunnel version:\", sshtunnel.__version__)\n",
    "\n",
    "MODEL_PATH = \"../model/ann_gym_recommender.keras\"\n",
    "DATA_PATH = \"../data/megaGymDataset.csv\""
   ]
  },
  {
   "cell_type": "markdown",
   "id": "55cfbacd-f3b2-4959-b865-de59c1214249",
   "metadata": {},
   "source": [
    "### Reading data from a SQL-SERVER"
   ]
  },
  {
   "cell_type": "code",
   "execution_count": 3,
   "id": "32277dd8-6f57-418d-bcf1-37f9489c4858",
   "metadata": {},
   "outputs": [
    {
     "name": "stderr",
     "output_type": "stream",
     "text": [
      "2024-07-14 01:48:42,655| ERROR   | Could not connect to gateway selene.hud.ac.uk:22 : Unable to connect to selene.hud.ac.uk: [WinError 10060] A connection attempt failed because the connected party did not properly respond after a period of time, or established connection failed because connected host has failed to respond\n"
     ]
    },
    {
     "name": "stdout",
     "output_type": "stream",
     "text": [
      "Could not connect to Database, reading local file from `../data/megaGymDataset.csv` instead... \n"
     ]
    }
   ],
   "source": [
    "try:\n",
    "    # Set up SSH tunnel\n",
    "    server = sshtunnel.SSHTunnelForwarder(\n",
    "        ('selene.hud.ac.uk', 22),\n",
    "        ssh_username='workit',\n",
    "        ssh_password='umbra(despair>Quartz218',\n",
    "        remote_bind_address=('localhost', 3306)\n",
    "    )\n",
    "    server.start()\n",
    "    \n",
    "    # Defining the connection\n",
    "    connection = pymysql.connect(host='localhost', port=server.local_bind_port, user='workit', password='umbra(despair>Quartz218', database='workit')\n",
    "\n",
    "    # Load the dataset\n",
    "    dataset = pd.read_sql_query(\"SELECT * FROM `megaGymDataset`\", connection)\n",
    "\n",
    "    server.stop()\n",
    "except:\n",
    "    print(\"Could not connect to Database, reading local file from `\" + DATA_PATH + \"` instead... \")\n",
    "    dataset = pd.read_csv(DATA_PATH)"
   ]
  },
  {
   "cell_type": "code",
   "execution_count": 4,
   "id": "cb38446f-3f2e-4c3f-9315-c179d704ee2e",
   "metadata": {},
   "outputs": [
    {
     "data": {
      "text/html": [
       "<div>\n",
       "<style scoped>\n",
       "    .dataframe tbody tr th:only-of-type {\n",
       "        vertical-align: middle;\n",
       "    }\n",
       "\n",
       "    .dataframe tbody tr th {\n",
       "        vertical-align: top;\n",
       "    }\n",
       "\n",
       "    .dataframe thead th {\n",
       "        text-align: right;\n",
       "    }\n",
       "</style>\n",
       "<table border=\"1\" class=\"dataframe\">\n",
       "  <thead>\n",
       "    <tr style=\"text-align: right;\">\n",
       "      <th></th>\n",
       "      <th>ID</th>\n",
       "      <th>Title</th>\n",
       "      <th>Desc</th>\n",
       "      <th>Type</th>\n",
       "      <th>BodyPart</th>\n",
       "      <th>Equipment</th>\n",
       "      <th>Level</th>\n",
       "      <th>Rating</th>\n",
       "    </tr>\n",
       "  </thead>\n",
       "  <tbody>\n",
       "    <tr>\n",
       "      <th>0</th>\n",
       "      <td>0</td>\n",
       "      <td>Partner plank band row</td>\n",
       "      <td>The partner plank band row is an abdominal exe...</td>\n",
       "      <td>Strength</td>\n",
       "      <td>Abdominals</td>\n",
       "      <td>Bands</td>\n",
       "      <td>Intermediate</td>\n",
       "      <td>0.0</td>\n",
       "    </tr>\n",
       "    <tr>\n",
       "      <th>1</th>\n",
       "      <td>1</td>\n",
       "      <td>Banded crunch isometric hold</td>\n",
       "      <td>The banded crunch isometric hold is an exercis...</td>\n",
       "      <td>Strength</td>\n",
       "      <td>Abdominals</td>\n",
       "      <td>Bands</td>\n",
       "      <td>Intermediate</td>\n",
       "      <td>4.5</td>\n",
       "    </tr>\n",
       "    <tr>\n",
       "      <th>2</th>\n",
       "      <td>2</td>\n",
       "      <td>FYR Banded Plank Jack</td>\n",
       "      <td>The banded plank jack is a variation on the pl...</td>\n",
       "      <td>Strength</td>\n",
       "      <td>Abdominals</td>\n",
       "      <td>Bands</td>\n",
       "      <td>Intermediate</td>\n",
       "      <td>4.5</td>\n",
       "    </tr>\n",
       "    <tr>\n",
       "      <th>3</th>\n",
       "      <td>3</td>\n",
       "      <td>Banded crunch</td>\n",
       "      <td>The banded crunch is an exercise targeting the...</td>\n",
       "      <td>Strength</td>\n",
       "      <td>Abdominals</td>\n",
       "      <td>Bands</td>\n",
       "      <td>Intermediate</td>\n",
       "      <td>4.5</td>\n",
       "    </tr>\n",
       "    <tr>\n",
       "      <th>4</th>\n",
       "      <td>4</td>\n",
       "      <td>Crunch</td>\n",
       "      <td>The crunch is a popular core exercise targetin...</td>\n",
       "      <td>Strength</td>\n",
       "      <td>Abdominals</td>\n",
       "      <td>Bands</td>\n",
       "      <td>Intermediate</td>\n",
       "      <td>4.5</td>\n",
       "    </tr>\n",
       "  </tbody>\n",
       "</table>\n",
       "</div>"
      ],
      "text/plain": [
       "   ID                         Title  \\\n",
       "0   0        Partner plank band row   \n",
       "1   1  Banded crunch isometric hold   \n",
       "2   2         FYR Banded Plank Jack   \n",
       "3   3                 Banded crunch   \n",
       "4   4                        Crunch   \n",
       "\n",
       "                                                Desc      Type    BodyPart  \\\n",
       "0  The partner plank band row is an abdominal exe...  Strength  Abdominals   \n",
       "1  The banded crunch isometric hold is an exercis...  Strength  Abdominals   \n",
       "2  The banded plank jack is a variation on the pl...  Strength  Abdominals   \n",
       "3  The banded crunch is an exercise targeting the...  Strength  Abdominals   \n",
       "4  The crunch is a popular core exercise targetin...  Strength  Abdominals   \n",
       "\n",
       "  Equipment         Level  Rating  \n",
       "0     Bands  Intermediate     0.0  \n",
       "1     Bands  Intermediate     4.5  \n",
       "2     Bands  Intermediate     4.5  \n",
       "3     Bands  Intermediate     4.5  \n",
       "4     Bands  Intermediate     4.5  "
      ]
     },
     "execution_count": 4,
     "metadata": {},
     "output_type": "execute_result"
    }
   ],
   "source": [
    "# Load the dataset\n",
    "dataset.head()"
   ]
  },
  {
   "cell_type": "markdown",
   "id": "19a26c23-4d28-4ea8-9dd2-dd7f0869f075",
   "metadata": {},
   "source": [
    "### Training from dataset"
   ]
  },
  {
   "cell_type": "code",
   "execution_count": 5,
   "id": "f12976fd-ab33-4155-b056-b679428e9090",
   "metadata": {},
   "outputs": [],
   "source": [
    "def labelEncodersScaler(data):\n",
    "    label_encoders = {}\n",
    "    for feature in [\"Type\", \"BodyPart\", \"Equipment\", \"Level\"]:\n",
    "        label_encoders[feature] = LabelEncoder()\n",
    "        data[feature] = label_encoders[feature].fit_transform(data[feature])\n",
    "\n",
    "    X = data[[\"Type\", \"BodyPart\", \"Equipment\", \"Level\"]]\n",
    "    y = data[\"ID\"]\n",
    "    \n",
    "    # Split the data into training and testing sets\n",
    "    X_train, X_test, y_train, y_test = train_test_split(X, y, test_size=0.2, random_state=42)\n",
    "    \n",
    "    # Standardize the features\n",
    "    scaler = StandardScaler()\n",
    "    X_train = scaler.fit_transform(X_train)\n",
    "\n",
    "    return label_encoders, scaler"
   ]
  },
  {
   "cell_type": "code",
   "execution_count": 6,
   "id": "a7cb65db-c47b-4e79-bc3f-545548ffcf2f",
   "metadata": {},
   "outputs": [],
   "source": [
    "def train_model(data):\n",
    "    label_encoders, scaler = labelEncodersScaler(data)\n",
    "    \n",
    "    X = data[[\"Type\", \"BodyPart\", \"Equipment\", \"Level\"]]\n",
    "    y = data[\"ID\"]\n",
    "    \n",
    "    # Split the data into training and testing sets\n",
    "    X_train, X_test, y_train, y_test = train_test_split(X, y, test_size=0.2, random_state=42)\n",
    "    \n",
    "    X_train = scaler.fit_transform(X_train)\n",
    "    X_test = scaler.transform(X_test)\n",
    "    \n",
    "    # Build the ANN model using TensorFlow\n",
    "    model = tf.keras.models.Sequential([\n",
    "        tf.keras.layers.Dense(64, activation='relu', input_shape=(X_train.shape[1],)),\n",
    "        tf.keras.layers.Dense(64, activation='relu'),\n",
    "        tf.keras.layers.Dense(len(data[\"ID\"].unique()), activation='softmax')  # Use the unique number of IDs as the output dimension\n",
    "    ])\n",
    "    \n",
    "    model.compile(optimizer='adam', loss='sparse_categorical_crossentropy', metrics=['accuracy'])\n",
    "    \n",
    "    model.fit(X_train, y_train, epochs=10, batch_size=32, validation_data=(X_test, y_test))\n",
    "\n",
    "    return model"
   ]
  },
  {
   "cell_type": "code",
   "execution_count": 7,
   "id": "a8227a06-24f4-4125-b06d-f91b5bbf6b26",
   "metadata": {
    "scrolled": true
   },
   "outputs": [
    {
     "name": "stdout",
     "output_type": "stream",
     "text": [
      "Epoch 1/10\n",
      "\u001b[1m73/73\u001b[0m \u001b[32m━━━━━━━━━━━━━━━━━━━━\u001b[0m\u001b[37m\u001b[0m \u001b[1m1s\u001b[0m 6ms/step - accuracy: 0.0000e+00 - loss: 7.9917 - val_accuracy: 0.0000e+00 - val_loss: 8.0173\n",
      "Epoch 2/10\n",
      "\u001b[1m73/73\u001b[0m \u001b[32m━━━━━━━━━━━━━━━━━━━━\u001b[0m\u001b[37m\u001b[0m \u001b[1m0s\u001b[0m 4ms/step - accuracy: 0.0050 - loss: 7.8948 - val_accuracy: 0.0000e+00 - val_loss: 8.6093\n",
      "Epoch 3/10\n",
      "\u001b[1m73/73\u001b[0m \u001b[32m━━━━━━━━━━━━━━━━━━━━\u001b[0m\u001b[37m\u001b[0m \u001b[1m0s\u001b[0m 4ms/step - accuracy: 0.0027 - loss: 7.0349 - val_accuracy: 0.0000e+00 - val_loss: 10.2416\n",
      "Epoch 4/10\n",
      "\u001b[1m73/73\u001b[0m \u001b[32m━━━━━━━━━━━━━━━━━━━━\u001b[0m\u001b[37m\u001b[0m \u001b[1m0s\u001b[0m 4ms/step - accuracy: 0.0110 - loss: 6.2264 - val_accuracy: 0.0000e+00 - val_loss: 12.5033\n",
      "Epoch 5/10\n",
      "\u001b[1m73/73\u001b[0m \u001b[32m━━━━━━━━━━━━━━━━━━━━\u001b[0m\u001b[37m\u001b[0m \u001b[1m0s\u001b[0m 4ms/step - accuracy: 0.0210 - loss: 5.7694 - val_accuracy: 0.0000e+00 - val_loss: 14.0761\n",
      "Epoch 6/10\n",
      "\u001b[1m73/73\u001b[0m \u001b[32m━━━━━━━━━━━━━━━━━━━━\u001b[0m\u001b[37m\u001b[0m \u001b[1m0s\u001b[0m 4ms/step - accuracy: 0.0183 - loss: 5.3892 - val_accuracy: 0.0000e+00 - val_loss: 15.6298\n",
      "Epoch 7/10\n",
      "\u001b[1m73/73\u001b[0m \u001b[32m━━━━━━━━━━━━━━━━━━━━\u001b[0m\u001b[37m\u001b[0m \u001b[1m0s\u001b[0m 4ms/step - accuracy: 0.0280 - loss: 5.0962 - val_accuracy: 0.0000e+00 - val_loss: 16.9075\n",
      "Epoch 8/10\n",
      "\u001b[1m73/73\u001b[0m \u001b[32m━━━━━━━━━━━━━━━━━━━━\u001b[0m\u001b[37m\u001b[0m \u001b[1m0s\u001b[0m 4ms/step - accuracy: 0.0279 - loss: 4.9522 - val_accuracy: 0.0000e+00 - val_loss: 17.9957\n",
      "Epoch 9/10\n",
      "\u001b[1m73/73\u001b[0m \u001b[32m━━━━━━━━━━━━━━━━━━━━\u001b[0m\u001b[37m\u001b[0m \u001b[1m0s\u001b[0m 4ms/step - accuracy: 0.0274 - loss: 4.7673 - val_accuracy: 0.0000e+00 - val_loss: 18.8250\n",
      "Epoch 10/10\n",
      "\u001b[1m73/73\u001b[0m \u001b[32m━━━━━━━━━━━━━━━━━━━━\u001b[0m\u001b[37m\u001b[0m \u001b[1m0s\u001b[0m 4ms/step - accuracy: 0.0467 - loss: 4.6930 - val_accuracy: 0.0000e+00 - val_loss: 19.4801\n"
     ]
    }
   ],
   "source": [
    "model = train_model(dataset.copy())\n",
    "model.save(MODEL_PATH)"
   ]
  }
 ],
 "metadata": {
  "kernelspec": {
   "display_name": "Python 3 (ipykernel)",
   "language": "python",
   "name": "python3"
  },
  "language_info": {
   "codemirror_mode": {
    "name": "ipython",
    "version": 3
   },
   "file_extension": ".py",
   "mimetype": "text/x-python",
   "name": "python",
   "nbconvert_exporter": "python",
   "pygments_lexer": "ipython3",
   "version": "3.12.3"
  }
 },
 "nbformat": 4,
 "nbformat_minor": 5
}
